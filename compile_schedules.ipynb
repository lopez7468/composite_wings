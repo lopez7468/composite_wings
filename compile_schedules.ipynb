{
 "cells": [
  {
   "cell_type": "code",
   "execution_count": 4,
   "metadata": {},
   "outputs": [],
   "source": [
    "\n",
    "import numpy as np\n",
    "from composite_theory_functions import *\n",
    "import pandas as pd\n"
   ]
  },
  {
   "cell_type": "code",
   "execution_count": 39,
   "metadata": {},
   "outputs": [],
   "source": [
    "material_lib = pd.read_csv('material_library.csv')\n",
    "material_lib.set_index('CLT_var', inplace= True)"
   ]
  },
  {
   "cell_type": "code",
   "execution_count": 46,
   "metadata": {},
   "outputs": [],
   "source": [
    "schedule = [1, 2, 1]\n",
    "angles = [45, 90 , 45]\n",
    "surface_area = 576 # in^2 "
   ]
  },
  {
   "cell_type": "code",
   "execution_count": 40,
   "metadata": {},
   "outputs": [],
   "source": [
    "# get schedule + laminae props\n",
    "\n",
    "schedul_props = {}\n",
    "\n",
    "i = 1\n",
    "for item in schedule:\n",
    "    schedul_props[i] = [item, angles[i-1], material_lib[str(item)]['Alpha_1'],\n",
    "                        material_lib[str(item)]['Alpha_2'], material_lib[str(item)]['E_11'],\n",
    "                        material_lib[str(item)]['E_12'], material_lib[str(item)]['V_12'], \n",
    "                        material_lib[str(item)]['G_12'], material_lib[str(item)]['thickness'],\n",
    "                        material_lib[str(item)]['density'] ] \n",
    "    #schedul_props[i] = layer_list\n",
    "    i = i+1"
   ]
  },
  {
   "cell_type": "code",
   "execution_count": 49,
   "metadata": {},
   "outputs": [
    {
     "data": {
      "text/plain": [
       "0.6515191501632001"
      ]
     },
     "execution_count": 49,
     "metadata": {},
     "output_type": "execute_result"
    }
   ],
   "source": [
    "# weight calc\n",
    "layer_weights = []\n",
    "\n",
    "for item in schedul_props:\n",
    "    density = 0.0361273 * float(schedul_props[item][9])\n",
    "    layer_weights.append(density * surface_area * float(schedul_props[item][8]))\n",
    "\n",
    "print(sum(layer_weights))\n",
    "    \n"
   ]
  },
  {
   "cell_type": "code",
   "execution_count": null,
   "metadata": {},
   "outputs": [],
   "source": [
    "#Alpha_1\n",
    "#Alpha_2\n",
    "#\n",
    "#\n",
    "#E_11\n",
    "#E_12\n",
    "#\n",
    "#\n",
    "#\n",
    "#\n",
    "#V_12\n",
    "#\n",
    "#\n",
    "#G_12\n"
   ]
  }
 ],
 "metadata": {
  "kernelspec": {
   "display_name": "Python 3",
   "language": "python",
   "name": "python3"
  },
  "language_info": {
   "codemirror_mode": {
    "name": "ipython",
    "version": 3
   },
   "file_extension": ".py",
   "mimetype": "text/x-python",
   "name": "python",
   "nbconvert_exporter": "python",
   "pygments_lexer": "ipython3",
   "version": "3.10.9"
  },
  "orig_nbformat": 4
 },
 "nbformat": 4,
 "nbformat_minor": 2
}
