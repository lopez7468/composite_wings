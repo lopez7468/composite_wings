{
 "cells": [
  {
   "cell_type": "code",
   "execution_count": 1,
   "metadata": {},
   "outputs": [],
   "source": [
    "\n",
    "import numpy as np\n",
    "from composite_theory_functions import *\n",
    "from my_clt_functions import *\n",
    "import pandas as pd\n"
   ]
  },
  {
   "cell_type": "code",
   "execution_count": 2,
   "metadata": {},
   "outputs": [],
   "source": [
    "material_lib = pd.read_csv('material_library.csv')\n",
    "material_lib.set_index('CLT_var', inplace= True)"
   ]
  },
  {
   "cell_type": "code",
   "execution_count": 3,
   "metadata": {},
   "outputs": [],
   "source": [
    "#schedule and angles have to be in a dictionary of the different possible schedules\n",
    "\n",
    "all_schedules2 = pd.DataFrame()\n",
    "\n",
    "all_schedules2['Angles'] = [0,0,0,0,0,0,0,0,0,0]\n",
    "all_schedules2['schedule'] = [3, 3, 3, 3, 3,3,3,3,3,3]\n",
    "\n",
    "all_schedules= {\n",
    " 1: all_schedules2, \n",
    " }\n",
    " \n",
    "\n",
    "\n",
    "schedule = [3, 3, 3, 3, 3,3,3,3,3,3]\n",
    "angles = [0,0,0,0,0,0,0,0,0,0,0]\n",
    "surface_area = 576 # in^2 "
   ]
  },
  {
   "cell_type": "code",
   "execution_count": 59,
   "metadata": {},
   "outputs": [
    {
     "data": {
      "text/html": [
       "<div>\n",
       "<style scoped>\n",
       "    .dataframe tbody tr th:only-of-type {\n",
       "        vertical-align: middle;\n",
       "    }\n",
       "\n",
       "    .dataframe tbody tr th {\n",
       "        vertical-align: top;\n",
       "    }\n",
       "\n",
       "    .dataframe thead th {\n",
       "        text-align: right;\n",
       "    }\n",
       "</style>\n",
       "<table border=\"1\" class=\"dataframe\">\n",
       "  <thead>\n",
       "    <tr style=\"text-align: right;\">\n",
       "      <th></th>\n",
       "      <th>Angles</th>\n",
       "      <th>schedule</th>\n",
       "    </tr>\n",
       "  </thead>\n",
       "  <tbody>\n",
       "    <tr>\n",
       "      <th>0</th>\n",
       "      <td>45</td>\n",
       "      <td>1</td>\n",
       "    </tr>\n",
       "    <tr>\n",
       "      <th>1</th>\n",
       "      <td>90</td>\n",
       "      <td>2</td>\n",
       "    </tr>\n",
       "    <tr>\n",
       "      <th>2</th>\n",
       "      <td>45</td>\n",
       "      <td>1</td>\n",
       "    </tr>\n",
       "  </tbody>\n",
       "</table>\n",
       "</div>"
      ],
      "text/plain": [
       "   Angles  schedule\n",
       "0      45         1\n",
       "1      90         2\n",
       "2      45         1"
      ]
     },
     "execution_count": 59,
     "metadata": {},
     "output_type": "execute_result"
    }
   ],
   "source": [
    "all_schedules[1]"
   ]
  },
  {
   "cell_type": "code",
   "execution_count": 27,
   "metadata": {},
   "outputs": [],
   "source": [
    "def combos(d, l, c = []):\n",
    "  yield tuple(c)\n",
    "  if len(c) < l:\n",
    "     yield from [i for b in d for i in combos(d, l, c+[b])]\n",
    "\n",
    "_, *vals = combos([1,2,3], 3)"
   ]
  },
  {
   "cell_type": "code",
   "execution_count": 30,
   "metadata": {},
   "outputs": [
    {
     "name": "stdout",
     "output_type": "stream",
     "text": [
      "[[(1, 0), (1, 0), (2, 0)], [(1, 0), (1, 0), (2, 45)], [(1, 0), (1, 0), (2, 90)], [(1, 0), (1, 45), (2, 0)], [(1, 0), (1, 45), (2, 45)], [(1, 0), (1, 45), (2, 90)], [(1, 0), (1, 90), (2, 0)], [(1, 0), (1, 90), (2, 45)], [(1, 0), (1, 90), (2, 90)], [(1, 45), (1, 0), (2, 0)], [(1, 45), (1, 0), (2, 45)], [(1, 45), (1, 0), (2, 90)], [(1, 45), (1, 45), (2, 0)], [(1, 45), (1, 45), (2, 45)], [(1, 45), (1, 45), (2, 90)], [(1, 45), (1, 90), (2, 0)], [(1, 45), (1, 90), (2, 45)], [(1, 45), (1, 90), (2, 90)], [(1, 90), (1, 0), (2, 0)], [(1, 90), (1, 0), (2, 45)], [(1, 90), (1, 0), (2, 90)], [(1, 90), (1, 45), (2, 0)], [(1, 90), (1, 45), (2, 45)], [(1, 90), (1, 45), (2, 90)], [(1, 90), (1, 90), (2, 0)], [(1, 90), (1, 90), (2, 45)], [(1, 90), (1, 90), (2, 90)]]\n"
     ]
    }
   ],
   "source": [
    "# python program to demonstrate\n",
    "# unique combination of two lists\n",
    "# using zip() and product() of itertools\n",
    "\n",
    "# import itertools package\n",
    "import itertools\n",
    "from itertools import product \n",
    "\n",
    "# initialize lists\n",
    "list_1 = vals[3]\n",
    "list_2 = [0, 45, 90]\n",
    "\n",
    "# create empty list to store the combinations\n",
    "unique_combinations = []\n",
    "\n",
    "# Extract Combination Mapping in two lists \n",
    "# using zip() + product() \n",
    "unique_combinations = list(list(zip(list_1, element))\n",
    "\t\t\t\t\t\tfor element in product(list_2, repeat = len(list_1)))\n",
    "\n",
    "# printing unique_combination list \n",
    "print(unique_combinations)\n"
   ]
  },
  {
   "cell_type": "code",
   "execution_count": 4,
   "metadata": {},
   "outputs": [],
   "source": [
    "# get schedule + laminae props\n",
    "\n",
    "schedul_props = {}\n",
    "\n",
    "i = 1\n",
    "\n",
    "for schedule in all_schedules:\n",
    "    for index, row in all_schedules[schedule].iterrows():\n",
    "\n",
    "        schedul_props[i] = [float(row['schedule']),\n",
    "                            float(row['Angles']),\n",
    "                            0,\n",
    "                            0,\n",
    "                            #float(material_lib[str(row['schedule'])]['Alpha_1']),\n",
    "                            #float(material_lib[str(row['schedule'])]['Alpha_2']),\n",
    "                            float(material_lib[str(row['schedule'])]['E_11']) *6894.76,\n",
    "                            float(material_lib[str(row['schedule'])]['E_12'])*6894.76,\n",
    "                            float(material_lib[str(row['schedule'])]['V_12']),\n",
    "                            float(material_lib[str(row['schedule'])]['G_12'])*6894.76,\n",
    "                            float(material_lib[str(row['schedule'])]['thickness'])*0.0254,\n",
    "                            float(material_lib[str(row['schedule'])]['density'] )] \n",
    "        #schedul_props[i] = layer_list\n",
    "        i = i+1\n",
    "\n"
   ]
  },
  {
   "cell_type": "code",
   "execution_count": 19,
   "metadata": {},
   "outputs": [
    {
     "name": "stdout",
     "output_type": "stream",
     "text": [
      "0.6515191501632001\n"
     ]
    }
   ],
   "source": [
    "# weight calc\n",
    "layer_weights = []\n",
    "\n",
    "for item in schedul_props:\n",
    "    density = 0.0361273 * float(schedul_props[item][9])\n",
    "    layer_weights.append(density * surface_area * float(schedul_props[item][8]))\n",
    "\n",
    "print(sum(layer_weights))\n",
    "    \n"
   ]
  },
  {
   "cell_type": "code",
   "execution_count": 5,
   "metadata": {},
   "outputs": [
    {
     "data": {
      "text/plain": [
       "{1: [3.0,\n",
       "  0.0,\n",
       "  0,\n",
       "  0,\n",
       "  61363.364,\n",
       "  61363.364,\n",
       "  0.04,\n",
       "  3299.8321360000004,\n",
       "  0.0002032,\n",
       "  1.42],\n",
       " 2: [3.0,\n",
       "  0.0,\n",
       "  0,\n",
       "  0,\n",
       "  61363.364,\n",
       "  61363.364,\n",
       "  0.04,\n",
       "  3299.8321360000004,\n",
       "  0.0002032,\n",
       "  1.42],\n",
       " 3: [3.0,\n",
       "  0.0,\n",
       "  0,\n",
       "  0,\n",
       "  61363.364,\n",
       "  61363.364,\n",
       "  0.04,\n",
       "  3299.8321360000004,\n",
       "  0.0002032,\n",
       "  1.42],\n",
       " 4: [3.0,\n",
       "  0.0,\n",
       "  0,\n",
       "  0,\n",
       "  61363.364,\n",
       "  61363.364,\n",
       "  0.04,\n",
       "  3299.8321360000004,\n",
       "  0.0002032,\n",
       "  1.42],\n",
       " 5: [3.0,\n",
       "  0.0,\n",
       "  0,\n",
       "  0,\n",
       "  61363.364,\n",
       "  61363.364,\n",
       "  0.04,\n",
       "  3299.8321360000004,\n",
       "  0.0002032,\n",
       "  1.42],\n",
       " 6: [3.0,\n",
       "  0.0,\n",
       "  0,\n",
       "  0,\n",
       "  61363.364,\n",
       "  61363.364,\n",
       "  0.04,\n",
       "  3299.8321360000004,\n",
       "  0.0002032,\n",
       "  1.42],\n",
       " 7: [3.0,\n",
       "  0.0,\n",
       "  0,\n",
       "  0,\n",
       "  61363.364,\n",
       "  61363.364,\n",
       "  0.04,\n",
       "  3299.8321360000004,\n",
       "  0.0002032,\n",
       "  1.42],\n",
       " 8: [3.0,\n",
       "  0.0,\n",
       "  0,\n",
       "  0,\n",
       "  61363.364,\n",
       "  61363.364,\n",
       "  0.04,\n",
       "  3299.8321360000004,\n",
       "  0.0002032,\n",
       "  1.42],\n",
       " 9: [3.0,\n",
       "  0.0,\n",
       "  0,\n",
       "  0,\n",
       "  61363.364,\n",
       "  61363.364,\n",
       "  0.04,\n",
       "  3299.8321360000004,\n",
       "  0.0002032,\n",
       "  1.42],\n",
       " 10: [3.0,\n",
       "  0.0,\n",
       "  0,\n",
       "  0,\n",
       "  61363.364,\n",
       "  61363.364,\n",
       "  0.04,\n",
       "  3299.8321360000004,\n",
       "  0.0002032,\n",
       "  1.42]}"
      ]
     },
     "execution_count": 5,
     "metadata": {},
     "output_type": "execute_result"
    }
   ],
   "source": [
    "schedul_props"
   ]
  },
  {
   "cell_type": "code",
   "execution_count": null,
   "metadata": {},
   "outputs": [],
   "source": [
    "#Alpha_1\n",
    "#Alpha_2\n",
    "#\n",
    "#\n",
    "#E_11\n",
    "#E_12\n",
    "#\n",
    "#\n",
    "#\n",
    "#\n",
    "#V_12\n",
    "#\n",
    "#\n",
    "#G_12\n"
   ]
  },
  {
   "cell_type": "code",
   "execution_count": 54,
   "metadata": {},
   "outputs": [
    {
     "data": {
      "text/plain": [
       "[-0.45,\n",
       " 0.04999999999999999,\n",
       " 0.19999999999999998,\n",
       " 0.32499999999999996,\n",
       " 0.44999999999999996]"
      ]
     },
     "execution_count": 54,
     "metadata": {},
     "output_type": "execute_result"
    }
   ],
   "source": [
    "laminate_thickness = []\n",
    "thick = [0.5, 0.15,0.125, 0.125]\n",
    "z = []\n",
    "Z= []\n",
    "for item in thick:\n",
    "    laminate_thickness.append(item)\n",
    "\n",
    "\n",
    "Z.append(- sum(laminate_thickness)/2)\n",
    "\n",
    "for item in laminate_thickness:\n",
    "    Z.append(Z[-1]+ item)\n",
    "\n",
    "Z\n"
   ]
  },
  {
   "cell_type": "code",
   "execution_count": 6,
   "metadata": {},
   "outputs": [
    {
     "ename": "IndexError",
     "evalue": "list index out of range",
     "output_type": "error",
     "traceback": [
      "\u001b[1;31m---------------------------------------------------------------------------\u001b[0m",
      "\u001b[1;31mIndexError\u001b[0m                                Traceback (most recent call last)",
      "\u001b[1;32mc:\\Users\\lopez\\Documents\\fsae\\composite_wings\\compile_schedules.ipynb Cell 12\u001b[0m line \u001b[0;36m1\n\u001b[1;32m----> <a href='vscode-notebook-cell:/c%3A/Users/lopez/Documents/fsae/composite_wings/compile_schedules.ipynb#X20sZmlsZQ%3D%3D?line=0'>1</a>\u001b[0m myCLT(schedul_props)\n",
      "File \u001b[1;32mc:\\Users\\lopez\\Documents\\fsae\\composite_wings\\my_clt_functions.py:102\u001b[0m, in \u001b[0;36mmyCLT\u001b[1;34m(schedule_dict)\u001b[0m\n\u001b[0;32m    100\u001b[0m i \u001b[39m=\u001b[39m \u001b[39m1\u001b[39m\n\u001b[0;32m    101\u001b[0m \u001b[39mfor\u001b[39;00m j \u001b[39min\u001b[39;00m \u001b[39mrange\u001b[39m(\u001b[39m0\u001b[39m,\u001b[39mlen\u001b[39m(schedule_dict) \u001b[39m+\u001b[39m \u001b[39m1\u001b[39m,\u001b[39m1\u001b[39m):\n\u001b[1;32m--> 102\u001b[0m     A11_v\u001b[39m.\u001b[39mappend(myQ11_S[j]\u001b[39m*\u001b[39m(Z[i]\u001b[39m-\u001b[39mZ[i\u001b[39m-\u001b[39m\u001b[39m1\u001b[39m]))\n\u001b[0;32m    103\u001b[0m     A12_v\u001b[39m.\u001b[39mappend(myQ12_S[j]\u001b[39m*\u001b[39m(Z[i]\u001b[39m-\u001b[39mZ[i\u001b[39m-\u001b[39m\u001b[39m1\u001b[39m]))\n\u001b[0;32m    104\u001b[0m     A16_v\u001b[39m.\u001b[39mappend(myQ16_S[j]\u001b[39m*\u001b[39m(Z[i]\u001b[39m-\u001b[39mZ[i\u001b[39m-\u001b[39m\u001b[39m1\u001b[39m]))\n",
      "\u001b[1;31mIndexError\u001b[0m: list index out of range"
     ]
    }
   ],
   "source": [
    "myCLT(schedul_props)"
   ]
  },
  {
   "cell_type": "code",
   "execution_count": null,
   "metadata": {},
   "outputs": [],
   "source": [
    "[[124843,4993.71,0,0,0,0,],[4993.71,124843,0,0,0,0,],[0,0,6705.6,0,0,0,],[0,0,0,42956.5,1718.26,0,],[0,0,0,1718.26,42956.5,0,],[0,0,0,0,0,2307.3,],]"
   ]
  }
 ],
 "metadata": {
  "kernelspec": {
   "display_name": "Python 3",
   "language": "python",
   "name": "python3"
  },
  "language_info": {
   "codemirror_mode": {
    "name": "ipython",
    "version": 3
   },
   "file_extension": ".py",
   "mimetype": "text/x-python",
   "name": "python",
   "nbconvert_exporter": "python",
   "pygments_lexer": "ipython3",
   "version": "3.11.1"
  },
  "orig_nbformat": 4
 },
 "nbformat": 4,
 "nbformat_minor": 2
}
