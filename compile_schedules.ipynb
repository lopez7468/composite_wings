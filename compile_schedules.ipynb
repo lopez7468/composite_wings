{
 "cells": [
  {
   "cell_type": "code",
   "execution_count": 4,
   "metadata": {},
   "outputs": [],
   "source": [
    "\n",
    "import numpy as np\n",
    "from composite_theory_functions import *\n",
    "import pandas as pd\n"
   ]
  },
  {
   "cell_type": "code",
   "execution_count": 2,
   "metadata": {},
   "outputs": [
    {
     "name": "stdout",
     "output_type": "stream",
     "text": [
      "54676.30772899226 16344.867068100906 0.0 54676.30772899226 1.8189894035458565e-12 19165.720330445685 4.547473508864641e-13 -2.2737367544323206e-13 0.0 0.0 0.0 0.0 4160.360251344937 2212.742276327931 682.0069418726562 3251.017662181396 682.0069418726562 2447.8133815233286\n"
     ]
    }
   ],
   "source": [
    "\n",
    "\n",
    "\n",
    "\n",
    "\n",
    "myE11 = 125744                       # Laminate E1 [MPa]  \n",
    "myE22 = 10030                        # Laminate E2 [MPa]\n",
    "myNu12 = 0.271                       # Laminate nu12 [-]   \n",
    "myG12 = 5555                         # Laminate G12 [MPa]                                                                  \n",
    "        \n",
    "\n",
    "\n",
    "myLaminate = [45,-45,0,90,90,0,-45,45]\n",
    "myPlyNumber = len(myLaminate)\n",
    "myLaminateThickness = 0.125\n",
    "\n",
    "\n",
    "A11,A12,A16,A22,A26,A66,B11,B12,B16,B22,B26,B66,D11,D12,D16,D22,D26,D66 = CLT(myE11,myE22,myG12,myNu12,myLaminate,myLaminateThickness,myPlyNumber)\n",
    "        \n",
    "        \n",
    "print(A11,A12,A16,A22,A26,A66,B11,B12,B16,B22,B26,B66,D11,D12,D16,D22,D26,D66)"
   ]
  },
  {
   "cell_type": "code",
   "execution_count": 20,
   "metadata": {},
   "outputs": [],
   "source": [
    "material_lib = pd.read_csv('material_library.csv')\n",
    "material_lib.set_index('CLT_var', inplace= True)"
   ]
  }
 ],
 "metadata": {
  "kernelspec": {
   "display_name": "Python 3",
   "language": "python",
   "name": "python3"
  },
  "language_info": {
   "codemirror_mode": {
    "name": "ipython",
    "version": 3
   },
   "file_extension": ".py",
   "mimetype": "text/x-python",
   "name": "python",
   "nbconvert_exporter": "python",
   "pygments_lexer": "ipython3",
   "version": "3.10.9"
  },
  "orig_nbformat": 4
 },
 "nbformat": 4,
 "nbformat_minor": 2
}
